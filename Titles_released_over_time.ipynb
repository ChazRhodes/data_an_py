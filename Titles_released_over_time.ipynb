{
 "cells": [
  {
   "cell_type": "code",
   "execution_count": 1,
   "id": "nasty-sunset",
   "metadata": {},
   "outputs": [],
   "source": [
    "import matplotlib.pyplot as plt\n",
    "import csv\n",
    "import datetime\n",
    "import calendar"
   ]
  },
  {
   "cell_type": "markdown",
   "id": "special-fellow",
   "metadata": {},
   "source": [
    "## Importing and Setting up the data\n",
    "\n",
    "Started by bringing in the CSV data into the Python program.\n",
    "Then parse the data using the CSV package.\n",
    "Lastly I closed the CSV file after I have the information."
   ]
  },
  {
   "cell_type": "code",
   "execution_count": 2,
   "id": "respective-shaft",
   "metadata": {},
   "outputs": [],
   "source": [
    "with open('netflix_titles.csv', encoding=\"utf8\") as datafile:\n",
    "    netflix_titles = csv.DictReader(datafile)\n",
    "    data_list = []\n",
    "    \n",
    "    for row in netflix_titles:\n",
    "        data_list.append(row)\n",
    "        "
   ]
  },
  {
   "cell_type": "code",
   "execution_count": 3,
   "id": "moral-titanium",
   "metadata": {},
   "outputs": [
    {
     "data": {
      "text/plain": [
       "<csv.DictReader at 0x20cb050c8b0>"
      ]
     },
     "execution_count": 3,
     "metadata": {},
     "output_type": "execute_result"
    }
   ],
   "source": [
    "netflix_titles"
   ]
  },
  {
   "cell_type": "code",
   "execution_count": 4,
   "id": "editorial-filing",
   "metadata": {},
   "outputs": [
    {
     "data": {
      "text/plain": [
       "{'show_id': '81145628',\n",
       " 'type': 'Movie',\n",
       " 'title': 'Norm of the North: King Sized Adventure',\n",
       " 'director': 'Richard Finn, Tim Maltby',\n",
       " 'cast': 'Alan Marriott, Andrew Toth, Brian Dobson, Cole Howard, Jennifer Cameron, Jonathan Holmes, Lee Tockar, Lisa Durupt, Maya Kay, Michael Dobson',\n",
       " 'country': 'United States, India, South Korea, China',\n",
       " 'date_added': 'September 9, 2019',\n",
       " 'release_year': '2019',\n",
       " 'rating': 'TV-PG',\n",
       " 'duration': '90 min',\n",
       " 'listed_in': 'Children & Family Movies, Comedies',\n",
       " 'description': 'Before planning an awesome wedding for his grandfather, a polar bear king must take back a stolen artifact from an evil archaeologist first.'}"
      ]
     },
     "execution_count": 4,
     "metadata": {},
     "output_type": "execute_result"
    }
   ],
   "source": [
    "data_list[0]"
   ]
  },
  {
   "cell_type": "markdown",
   "id": "silent-montana",
   "metadata": {},
   "source": [
    "## Formating the Data\n",
    "\n",
    "I wanted to get the number of netflix titles isolated by year. In order to do that, I had created indexes. Next I created variables that were specific to their year. Following this, I created a If/else in function that isolated the years from unlike years and pair them with like years. From this, I asked for the computer to count how many time that there was a new entry to the year_x variable. This gave me a number, which became the y value for the bar graph below."
   ]
  },
  {
   "cell_type": "code",
   "execution_count": 33,
   "id": "aboriginal-examination",
   "metadata": {},
   "outputs": [
    {
     "name": "stdout",
     "output_type": "stream",
     "text": [
      "25\n",
      "90\n",
      "456\n",
      "1300\n",
      "1782\n",
      "2349\n"
     ]
    }
   ],
   "source": [
    "year_2014 = []\n",
    "year_2015 = []\n",
    "year_2016 = []\n",
    "year_2017 = []\n",
    "year_2018 = []\n",
    "year_2019 = []\n",
    "\n",
    "num_2014 = 0\n",
    "num_2015 = 0\n",
    "num_2016 = 0\n",
    "num_2017 = 0\n",
    "num_2018 = 0\n",
    "num_2019 = 0\n",
    "\n",
    "for item in data_list:\n",
    "   # print(item['date_added'].split(', ')[1])\n",
    "    if '2014' in item['date_added'].split(', '):\n",
    "        year_2014.append(row)\n",
    "    elif '2015' in item['date_added'].split(', '):\n",
    "        year_2015.append(row)\n",
    "    elif '2016' in item['date_added'].split(', '):\n",
    "        year_2016.append(row)\n",
    "    elif '2017' in item['date_added'].split(', '):\n",
    "        year_2017.append(row)\n",
    "    elif '2018' in item['date_added'].split(', '):\n",
    "        year_2018.append(row)\n",
    "    elif '2019' in item['date_added'].split(', '):\n",
    "        year_2019.append(row)\n",
    "        \n",
    "\n",
    "num_2014 = (len(year_2014))\n",
    "num_2015 = (len(year_2015))\n",
    "num_2016 = (len(year_2016))\n",
    "num_2017= (len(year_2017))\n",
    "num_2018= (len(year_2018))\n",
    "num_2019= (len(year_2019))\n",
    "\n",
    "print(num_2014)\n",
    "print(num_2015)\n",
    "print(num_2016)\n",
    "print(num_2017)\n",
    "print(num_2018)\n",
    "print(num_2019)"
   ]
  },
  {
   "cell_type": "markdown",
   "id": "authorized-steam",
   "metadata": {},
   "source": [
    "## Creating the Visualization\n",
    "\n",
    "Now that the Data is parse, I will use matplotlib to create a graph. The graph has \"years\" as the x-axis and has \"amount released\" as the y-axis. Using the data created above, I created an array variable called \"values\" that showed the amount of titles released that year. I created an array variable called \"years\" that contained all the years that were selected for the graph. I put all this information into a bar plot and the results can be seen below."
   ]
  },
  {
   "cell_type": "code",
   "execution_count": 38,
   "id": "robust-eleven",
   "metadata": {},
   "outputs": [
    {
     "data": {
      "text/plain": [
       "<BarContainer object of 6 artists>"
      ]
     },
     "execution_count": 38,
     "metadata": {},
     "output_type": "execute_result"
    },
    {
     "data": {
      "image/png": "[encoded data removed]",
      "text/plain": [
       "<Figure size 432x288 with 1 Axes>"
      ]
     },
     "metadata": {
      "needs_background": "light"
     },
     "output_type": "display_data"
    }
   ],
   "source": [
    "plt.title(\"Netflix Shows & Movies Released Over Time\")\n",
    "plt.xlabel('Years')\n",
    "plt.ylabel('Amount Released')\n",
    "\n",
    "years = ['2014', '2015', '2016', '2017', '2018', '2019']\n",
    "values = [num_2014, num_2015, num_2016, num_2017, num_2018, num_2019]\n",
    "plt.bar(years, values)"
   ]
  }
 ],
 "metadata": {
  "kernelspec": {
   "display_name": "netflix_titles",
   "language": "python",
   "name": "netflix_titles"
  },
  "language_info": {
   "codemirror_mode": {
    "name": "ipython",
    "version": 3
   },
   "file_extension": ".py",
   "mimetype": "text/x-python",
   "name": "python",
   "nbconvert_exporter": "python",
   "pygments_lexer": "ipython3",
   "version": "3.9.1"
  }
 },
 "nbformat": 4,
 "nbformat_minor": 5
}
